{
  "cells": [
    {
      "cell_type": "markdown",
      "metadata": {
        "id": "iueVqaZCRx6O"
      },
      "source": [
        "### **Due Date**\n",
        "2/1/2024 at 11:59PM EST\n",
        "\n",
        "### **Introduction**\n",
        "\n",
        "Welcome to Assignment 0 of 4756. In this short notebook, we hope to refresh your memory with common Numpy pain points and PyTorch. Please read through the following paragraphs carefully, as they will apply to this and all future assignments.\n",
        "\n",
        "**Evaluation:**\n",
        "Your code will be tested for correctness and, for certain assignments, speed. Please remember that all assignments should be completed individually.\n",
        "\n",
        "**Academic Integrity:** We will be checking your code against other submissions in the class for logical redundancy. If you copy someone else’s code and submit it with minor changes, we will know. These cheat detectors are quite hard to fool, so please don’t try. We trust you all to submit your own work only; please don’t let us down. If you do, we will pursue the strongest consequences available to us.\n",
        "\n",
        "**Getting Help:** The [Resources](https://www.cs.cornell.edu/courses/cs4756/2024sp/#resources) section on the course website is your friend (especially for this first assignment)! If you ever feel stuck in these projects, please feel free to avail yourself to office hours and Edstem! If you are unable to make any of the office hours listed, please let TAs know and we will be happy to assist. Of course, Numpy and Python skills will also be implicitly tested via this assignment. If you need a refresher, please see this [60 minute blitz](https://pytorch.org/tutorials/beginner/deep_learning_60min_blitz.html) for PyTorch! For Numpy, please see the quickstart [here](https://numpy.org/doc/stable/user/quickstart.html) and full API [here](https://numpy.org/doc/stable/reference/). \n"
      ]
    },
    {
      "cell_type": "markdown",
      "metadata": {},
      "source": [
        "To run this notebook, you can see [this guide](https://code.visualstudio.com/docs/datascience/jupyter-notebooks) for VSCode. Create a new virtual environment and then activate it to install the requirements. If the virtual environment you created through VS Code is called `.venv`, you can run\n",
        "```bash\n",
        "source .venv/bin/activate\n",
        "pip install -r requirements.txt\n",
        "```"
      ]
    },
    {
      "cell_type": "code",
      "execution_count": 46,
      "metadata": {},
      "outputs": [
        {
          "name": "stdout",
          "output_type": "stream",
          "text": [
            "The autoreload extension is already loaded. To reload it, use:\n",
            "  %reload_ext autoreload\n"
          ]
        },
        {
          "data": {
            "text/plain": [
              "<torch._C.Generator at 0x11a320d90>"
            ]
          },
          "execution_count": 46,
          "metadata": {},
          "output_type": "execute_result"
        }
      ],
      "source": [
        "import matplotlib.pyplot as plt\n",
        "import numpy as np\n",
        "import torch\n",
        "\n",
        "# Reload code in q1 and q2 modules without having to restart the kernel\n",
        "%load_ext autoreload\n",
        "%autoreload 2\n",
        "\n",
        "# Set seeds for reproducibility\n",
        "np.random.seed(42)\n",
        "torch.manual_seed(42)"
      ]
    },
    {
      "cell_type": "markdown",
      "metadata": {},
      "source": [
        "### Q1: Shapes and Sizes\n",
        "\n",
        "In this first question, we hope to get you familiar thinking about and working with shapes in both Numpy and PyTorch. The most common pain points we see in this class are related to debugging shape and sizing issues. To help you get familiar with this, we've provided some buggy code that needs to be debugged.\n",
        "\n",
        "There are 3 functions to modify in this section, located in `q1.py`. Below, `calculate_distances` is called with some inputs and there are two assert statements that check for the correct shape and correct numbers. Please modify `calculate_distances` in `q1.py` to pass the asserts. You should not need to modify the inputs. The bugs are also simple enough to be fixed in-line - you should not need to add many lines of code.\n",
        "\n",
        "To debug, we suggest printing out each intermediate step of your code to check that the shapes are what you expect them to be. If you are confused about the output of a print statement, check out the documentation or ask for help."
      ]
    },
    {
      "cell_type": "code",
      "execution_count": 47,
      "metadata": {},
      "outputs": [],
      "source": [
        "import q1\n",
        "\n",
        "x = np.array([[0, 0], [1, 0], [2, 0]])\n",
        "y = np.array([[3, 4], [3, 0], [-2, 0]])\n",
        "n, d = x.shape\n",
        "\n",
        "distance = q1.calculate_distances(x, y)\n",
        "assert distance.shape == (n, 1), f\"Wrong shape: {distance.shape} != {(n, 1)}\"\n",
        "assert np.array_equal(distance, np.array([[5], [2], [4]])), f\"Wrong values: {distance}\""
      ]
    },
    {
      "cell_type": "markdown",
      "metadata": {},
      "source": [
        "Once you have fixed `calculate_distances` and the assert statements are passing, try fixing function `combine_squares` below. Now you are working with PyTorch tensors but they are very similar to Numpy arrays. Use the same debugging principles as before."
      ]
    },
    {
      "cell_type": "code",
      "execution_count": 48,
      "metadata": {
        "id": "LR_MrK8aXQ6U"
      },
      "outputs": [],
      "source": [
        "square_1 = torch.tensor([[0 , 1 ], [4 , 5 ]])\n",
        "square_2 = torch.tensor([[2 , 3 ], [6 , 7 ]])\n",
        "square_3 = torch.tensor([[8 , 9 ], [12, 13]])\n",
        "square_4 = torch.tensor([[10, 11], [14, 15]])\n",
        "n, _ = square_1.shape\n",
        "\n",
        "combined_square = q1.combine_squares(square_1, square_2, square_3, square_4)\n",
        "assert combined_square.shape == (2 * n, 2 * n), f\"Wrong shape: {combined_square.shape} != {(2 * n, 2 * n)}\"\n",
        "assert torch.equal(combined_square, torch.tensor([[0, 1, 2, 3], [4, 5, 6, 7], [8, 9, 10 ,11], [12, 13, 14, 15]])), f\"Wrong values: {combined_square}\""
      ]
    },
    {
      "cell_type": "markdown",
      "metadata": {},
      "source": [
        "Now you will combine your knowledge from the previous two functions and implement `video_to_filmstrip`. We omit the assert statements here so you should write your own to verify the correctness of your code. For reference, the solution is 3 lines of code. Your code should be vectorized meaning do not use any for loops and only use Numpy/PyTorch functions."
      ]
    },
    {
      "cell_type": "code",
      "execution_count": 49,
      "metadata": {},
      "outputs": [],
      "source": [
        "video_frames = []\n",
        "for i in range(10):\n",
        "    video_frames.append(np.ones((1080, 1920, 3)) * i)\n",
        "\n",
        "filmstrip = q1.video_to_filmstrip(video_frames)\n",
        "\n",
        "tensor  = [torch.from_numpy(a) for a in video_frames]\n",
        "\n",
        "assert filmstrip.shape == (1080,19200,3), f\"Wrong shape: {filmstrip.shape} != {(1080,19200,3)}\"\n",
        "assert torch.equal(filmstrip, torch.cat(tensor,1)), f\"Wrong values: {filmstrip}\""
      ]
    },
    {
      "cell_type": "markdown",
      "metadata": {
        "id": "dLvDDDL6V8MP"
      },
      "source": [
        "### Q2: A Simple Regressor\n",
        "\n",
        "This second question will hopefully refresh your memory of how to train a model in PyTorch and give you a general idea of what coding assignments will look like in this class. "
      ]
    },
    {
      "cell_type": "markdown",
      "metadata": {
        "id": "vwBTSbGPXEIM"
      },
      "source": [
        "In this question, we are testing your ability to solve a simple regression problem. First we generate some train and test data. This should not be modified."
      ]
    },
    {
      "cell_type": "code",
      "execution_count": 50,
      "metadata": {
        "id": "-q3zMdvpYBAS"
      },
      "outputs": [],
      "source": [
        "# Generate train/test data\n",
        "data_size = 500\n",
        "X = np.random.rand(data_size, 1)\n",
        "Y = -4 * X + 2 + np.random.randn(data_size, 1)\n",
        "\n",
        "test_split = int(data_size * 0.8)\n",
        "x_train, x_test = X[:test_split], X[test_split:]\n",
        "y_train, y_test = Y[:test_split], Y[test_split:]\n",
        "\n",
        "x_train, y_train = torch.tensor(x_train).float(), torch.tensor(y_train).float()\n",
        "x_test, y_test = torch.tensor(x_test).float(), torch.tensor(y_test).float()"
      ]
    },
    {
      "cell_type": "markdown",
      "metadata": {},
      "source": [
        "Now your task is to implement a simple linear regressor. Refer to script `q2.py` and implement the TODOs. You will need to implement the `forward()` pass, specify a loss function and optimizer, and write a training loop that includes checkpointing logic to save the best model."
      ]
    },
    {
      "cell_type": "code",
      "execution_count": 51,
      "metadata": {
        "id": "D2rwUxK-ZG-i"
      },
      "outputs": [],
      "source": [
        "import q2\n",
        "checkpoint_path = q2.get_checkpoint_path()\n",
        "model = q2.LinearRegression()\n",
        "loss_fn, optimizer = q2.create_loss_and_optimizer(model)\n",
        "q2.train(x_train, y_train, model, loss_fn, optimizer, checkpoint_path, num_epochs=1000)"
      ]
    },
    {
      "cell_type": "markdown",
      "metadata": {},
      "source": [
        "You should also implement `load_model_checkpoint` so you can load your best model to evaluate. This is useful for us to grade your assignment. For future assignments, you can also save information such as the optimizer state and epochs to resume training if your training is interrupted."
      ]
    },
    {
      "cell_type": "code",
      "execution_count": 52,
      "metadata": {
        "id": "11U8PwA4Z-XJ"
      },
      "outputs": [],
      "source": [
        "model = q2.load_model_checkpoint(checkpoint_path)"
      ]
    },
    {
      "cell_type": "markdown",
      "metadata": {
        "id": "rnQUGOpnjXgH"
      },
      "source": [
        "Below we provide code snippets to visualize the performance of your model on the training and test data. You do not need to modify this code - use this as a sanity check to make sure your training code is working. The test plot will be saved to `q2_test.png` - this must be included in your submission."
      ]
    },
    {
      "cell_type": "code",
      "execution_count": 53,
      "metadata": {
        "id": "rQhqeSuoir9u"
      },
      "outputs": [
        {
          "data": {
            "image/png": "[encoded data removed]",
            "text/plain": [
              "<Figure size 640x480 with 1 Axes>"
            ]
          },
          "metadata": {},
          "output_type": "display_data"
        }
      ],
      "source": [
        "# Plot training performance \n",
        "plt.scatter(x_train, y_train, s=10)\n",
        "with torch.no_grad():\n",
        "  y_pred = model(x_train)\n",
        "y_pred = y_pred.numpy()\n",
        "plt.plot(x_train, y_pred, color='magenta')\n",
        "plt.show()"
      ]
    },
    {
      "cell_type": "code",
      "execution_count": 54,
      "metadata": {
        "id": "BEzgKkiYj1uT"
      },
      "outputs": [
        {
          "name": "stdout",
          "output_type": "stream",
          "text": [
            "Test loss: 1.1903563737869263\n"
          ]
        }
      ],
      "source": [
        "# Test the model\n",
        "with torch.no_grad():\n",
        "  y_pred = model(x_test)\n",
        "  test_loss = loss_fn(y_pred, y_test)\n",
        "  print(f\"Test loss: {test_loss.item()}\")"
      ]
    },
    {
      "cell_type": "code",
      "execution_count": 55,
      "metadata": {
        "id": "KlCE4DmGk-iZ"
      },
      "outputs": [
        {
          "data": {
            "image/png": "[encoded data removed]",
            "text/plain": [
              "<Figure size 640x480 with 1 Axes>"
            ]
          },
          "metadata": {},
          "output_type": "display_data"
        }
      ],
      "source": [
        "# Plot test performance \n",
        "plt.scatter(x_test, y_test, s=10)\n",
        "with torch.no_grad():\n",
        "  y_pred = model(x_test)\n",
        "y_pred = y_pred.numpy()\n",
        "plt.plot(x_test, y_pred, color='red')\n",
        "plt.savefig('q2_test.png')\n",
        "plt.show()"
      ]
    }
  ],
  "metadata": {
    "colab": {
      "include_colab_link": true,
      "provenance": []
    },
    "kernelspec": {
      "display_name": "Python 3",
      "name": "python3"
    },
    "language_info": {
      "codemirror_mode": {
        "name": "ipython",
        "version": 3
      },
      "file_extension": ".py",
      "mimetype": "text/x-python",
      "name": "python",
      "nbconvert_exporter": "python",
      "pygments_lexer": "ipython3",
      "version": "3.11.5"
    }
  },
  "nbformat": 4,
  "nbformat_minor": 0
}
